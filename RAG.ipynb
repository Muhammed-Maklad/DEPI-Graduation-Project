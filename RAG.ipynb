{
 "cells": [
  {
   "cell_type": "code",
   "execution_count": 3,
   "id": "8ccbc408-08b6-4a2c-a391-6cbf9723a599",
   "metadata": {},
   "outputs": [],
   "source": [
    "from langchain.document_loaders import CSVLoader\n",
    "from langchain_ollama.embeddings import OllamaEmbeddings\n",
    "from langchain.vectorstores import FAISS\n",
    "from langchain_ollama.llms import OllamaLLM\n",
    "\n",
    "# Load the CSV file using Langchain's CSVLoader\n",
    "csv_file_path = 'reviews.csv'\n",
    "loader = CSVLoader(file_path=csv_file_path, encoding = 'utf')\n",
    "# Load the data into a list of Langchain documents\n",
    "documents = loader.load()\n",
    "\n",
    "# Create the FAISS vector store directly using Langchain's `from_texts` method\n",
    "texts = [doc.page_content for doc in documents]  # Extract review texts\n",
    "metadatas = [doc.metadata for doc in documents]  # Extract metadata (if any)\n",
    "embedding_model = OllamaEmbeddings(model=\"llama3.1:8b-instruct-q8_0\")\n",
    "# Generate embeddings and create the FAISS index\n",
    "vector_store = FAISS.from_texts(texts=texts, embedding=embedding_model, metadatas=metadatas)\n",
    "# Create the FAISS vector store directly using Langchain's `from_texts` method\n",
    "texts = [doc.page_content for doc in documents]\n",
    "metadatas = [doc.metadata for doc in documents]\n",
    "\n",
    "vector_store = FAISS.from_texts(texts=texts, embedding=embedding_model, metadatas=metadatas)\n",
    "\n",
    "vector_store.save_local(\"faiss_reviews_index\")\n",
    "\n",
    "vector_store = FAISS.load_local(\"faiss_reviews_index\", embedding_model,allow_dangerous_deserialization=True)\n",
    "\n",
    "\n",
    "# Initialize the Ollama LLM for response generation\n",
    "llm = OllamaLLM(model=\"llama3.1:8b-instruct-q8_0\")\n",
    "\n",
    "# Function to retrieve top-k relevant reviews based on a query\n",
    "def retrieve_relevant_reviews(query, top_k=5):\n",
    "    relevant_docs = vector_store.similarity_search(query, k=top_k)\n",
    "    \n",
    "    context = \"\\n\\n\".join([doc.page_content for doc in relevant_docs])\n",
    "    \n",
    "    return context, relevant_docs\n",
    "def generate_response(query, top_k=5):\n",
    "    # Retrieve relevant reviews based on the query\n",
    "    context, relevant_reviews = retrieve_relevant_reviews(query, top_k)\n",
    "\n",
    "    initial_prompt = f''' You are a software engineer that has build a chat bot. You have to chat bots with different capabailities.\n",
    "The first one is a very normal that you can ask questions and chat with it. The other one is a business intillegence analyst.\n",
    "The BI is responsible for questions about product reviews, insights and all things that he could be tasked with. He has the data and\n",
    "questions about strategies and clients. Generally anything that doesn't require the analyst are directed to the chatbot.\n",
    "Your use has asked you this question: {query}.Which bot will you use to answer the question?Answer with 'normal' for the normal chatbot and with 'BI' \n",
    "for the analyst. Only answer using these words.\n",
    "                    '''\n",
    "    response = llm.invoke(initial_prompt)\n",
    "    if(response.lower() == 'bi'):\n",
    "        prompt = f'''You are an expert Business Intillegence analyst. Your client has a product that he launched and he is getting feedback from his \n",
    "clients.Being his BI analyst you have finally scraped and curated the reviews, you now can Answer his questions fully. Think carefully about his\n",
    "questions. What does he need to know? What did you learn from the reviews and the context? Here is the context and some reviews:\\n\\n{context}Now your \n",
    "client has asked you this question:{query}. Answer it professionally. Provide relevant answers and make sure you are articulating what you want to say \n",
    "clearly and concisely. He wants simple answers to strategize and think about his products and clients to fulfill their needs. Provide detailed insights \n",
    "and reasoning behind any suggestions you make. Be straight to the point and make sure to deliver the key points clearly. Emphasize your opinion about \n",
    "the insights and the data you got to give your client a better understanding. Breakdown his request and think about each chunck separately to address \n",
    "his question fully. Don't mention client names or any information that is irrelevant, Keep the superflous information to bare minimum'''\n",
    "        response = llm.invoke(prompt)\n",
    "    else:\n",
    "        prompt = f'''You are a helpful AI assistant. You are tasked with helping users and asnwer their questions to you fullest extent. you have a huge \n",
    "        knolowdge base that allows you to answer different things diverse questions. The user has asked you this question: {query}. Answer him!'''\n",
    "        response = llm.invoke(prompt)\n",
    "    return response, relevant_reviews"
   ]
  },
  {
   "cell_type": "code",
   "execution_count": 6,
   "id": "97b8140e-49fe-422f-b518-1a6887a46003",
   "metadata": {},
   "outputs": [],
   "source": [
    "user_query = \"According to my clients, what are the problems they faced with the product? What were the pain points. And How do you suggest solving them?\"\n",
    "\n",
    "response, relevant_reviews = generate_response(user_query, top_k=10)"
   ]
  },
  {
   "cell_type": "code",
   "execution_count": 7,
   "id": "422a07e0-ecc2-4063-a132-3ba97a6bf111",
   "metadata": {},
   "outputs": [
    {
     "name": "stdout",
     "output_type": "stream",
     "text": [
      "**Problems faced by clients with the product:**\n",
      "\n",
      "Based on the reviews, I have identified three main pain points:\n",
      "\n",
      "1.  **Sizing and lightness**: Some customers mentioned that the product is smaller than usual and very light, which may be perceived as a negative aspect.\n",
      "2.  **Water seepage**: One customer specifically mentioned that the product has a major issue with water seepage, which can lead to a shorter lifespan of the product.\n",
      "3.  **Color variation**: Some customers received products with different colors than what they expected, indicating a possible issue with color consistency.\n",
      "\n",
      "**Suggestions for solving these pain points:**\n",
      "\n",
      "1.  **Sizing and lightness:**\n",
      "    *   Consider revising the product design or materials to make it more substantial while maintaining its lightweight features.\n",
      "    *   Provide clearer product descriptions, including measurements, to help customers better understand what they're getting.\n",
      "2.  **Water seepage:**\n",
      "    *   Investigate the root cause of this issue and address any manufacturing defects or material flaws.\n",
      "    *   Implement quality control measures to ensure that products meet minimum standards before shipping.\n",
      "3.  **Color variation:**\n",
      "\n",
      "*   Improve color consistency by refining production processes, using more accurate color representations in product listings, and providing clear color options for customers to choose from.\n",
      "\n",
      "**Insights and reasoning behind these suggestions:**\n",
      "\n",
      "These pain points are crucial to address as they directly impact customer satisfaction and loyalty. By identifying and resolving these issues, you can improve the overall quality of your products, increase customer trust, and ultimately drive business growth. I recommend prioritizing water seepage, as it's a significant concern that can lead to product failure and damage to your reputation.\n"
     ]
    }
   ],
   "source": [
    "print(response)"
   ]
  },
  {
   "cell_type": "code",
   "execution_count": 5,
   "id": "29736996-4ca8-410f-9ab2-ebf911295e5c",
   "metadata": {},
   "outputs": [],
   "source": []
  },
  {
   "cell_type": "code",
   "execution_count": 8,
   "id": "ee48b27d-3c2d-43b7-8ffd-ff35634b0ebb",
   "metadata": {},
   "outputs": [],
   "source": []
  },
  {
   "cell_type": "code",
   "execution_count": 9,
   "id": "f939e457-7723-4bb8-a270-533e4b6d6afd",
   "metadata": {},
   "outputs": [],
   "source": []
  },
  {
   "cell_type": "code",
   "execution_count": 10,
   "id": "52e8e6bb-1ec7-4369-9b09-99b2c3aa37b7",
   "metadata": {},
   "outputs": [],
   "source": []
  },
  {
   "cell_type": "code",
   "execution_count": 55,
   "id": "757d6a6d-2335-476b-9b06-d0eaf7489c27",
   "metadata": {},
   "outputs": [],
   "source": []
  },
  {
   "cell_type": "code",
   "execution_count": 56,
   "id": "8953192c-3067-4157-9de7-380e05f33024",
   "metadata": {},
   "outputs": [],
   "source": []
  },
  {
   "cell_type": "code",
   "execution_count": 58,
   "id": "07af6f85-c785-4a43-89fc-79fb24ceaa7b",
   "metadata": {},
   "outputs": [
    {
     "name": "stdout",
     "output_type": "stream",
     "text": [
      "Based on the feedback provided by customers, I have identified some common pain points and problems they faced with the product.\n",
      "\n",
      "**Common Pain Points:**\n",
      "\n",
      "1. **Size and Lightness**: Some customers appreciated the product's lightness and small size, making it easy to use and transport.\n",
      "2. **Satisfactory Performance**: A few customers were satisfied with the product's performance, particularly its ability to accommodate various fabric types (e.g., cotton, polyester).\n",
      "3. **Design and Quality**: Customers appreciated the product's design and quality, citing its simplicity and ease of use.\n",
      "\n",
      "**Problems Faced:**\n",
      "\n",
      "1. **Water Leaks**: One customer mentioned that water leaks were a significant issue with most electric blankets, which they considered an \"obvious flaw.\"\n",
      "2. **Color Consistency**: A few customers received products that did not match the expected color.\n",
      "3. **Price**: Some customers found the product's price to be too high.\n",
      "\n",
      "**Suggestions for Improvement:**\n",
      "\n",
      "1. **Improve Water Leak Prevention**: To address the issue of water leaks, I suggest enhancing the product's design and materials to make it more waterproof or improving the manufacturing process to minimize defects.\n",
      "2. **Standardize Color Consistency**: Implement a quality control process to ensure that products match the expected color consistently.\n",
      "3. **Reassess Pricing Strategy**: Review the pricing strategy to ensure that it is competitive with similar products in the market.\n",
      "\n",
      "**Insights and Recommendations:**\n",
      "\n",
      "Based on the data, I recommend prioritizing the improvement of water leak prevention and standardization of color consistency. These issues are likely to have a significant impact on customer satisfaction and loyalty.\n",
      "\n",
      "To address these problems, I suggest:\n",
      "\n",
      "1. Conducting user testing to identify specific areas where improvements can be made.\n",
      "2. Implementing design and manufacturing changes to minimize defects.\n",
      "3. Providing clear product information and expectations to customers regarding color consistency.\n",
      "\n",
      "By addressing these pain points and improving the product's performance, you can increase customer satisfaction, build brand loyalty, and differentiate your product in the market.\n"
     ]
    }
   ],
   "source": []
  },
  {
   "cell_type": "code",
   "execution_count": 2,
   "id": "d5da01d4-48f9-4622-afe2-d86f5ab1f9f2",
   "metadata": {},
   "outputs": [],
   "source": [
    "import pandas as pd"
   ]
  },
  {
   "cell_type": "code",
   "execution_count": 3,
   "id": "89faab6c-6797-46ff-bb71-bd95655d6065",
   "metadata": {},
   "outputs": [],
   "source": [
    "df = pd.read_csv('reviews.csv')"
   ]
  },
  {
   "cell_type": "code",
   "execution_count": 4,
   "id": "e2cd062c-30b6-4b6c-a166-174d4de8b09f",
   "metadata": {},
   "outputs": [
    {
     "data": {
      "text/html": [
       "<div>\n",
       "<style scoped>\n",
       "    .dataframe tbody tr th:only-of-type {\n",
       "        vertical-align: middle;\n",
       "    }\n",
       "\n",
       "    .dataframe tbody tr th {\n",
       "        vertical-align: top;\n",
       "    }\n",
       "\n",
       "    .dataframe thead th {\n",
       "        text-align: right;\n",
       "    }\n",
       "</style>\n",
       "<table border=\"1\" class=\"dataframe\">\n",
       "  <thead>\n",
       "    <tr style=\"text-align: right;\">\n",
       "      <th></th>\n",
       "      <th>Stars</th>\n",
       "      <th>Title</th>\n",
       "      <th>Date</th>\n",
       "      <th>Description</th>\n",
       "      <th>Sentiment</th>\n",
       "    </tr>\n",
       "  </thead>\n",
       "  <tbody>\n",
       "    <tr>\n",
       "      <th>0</th>\n",
       "      <td>5.0</td>\n",
       "      <td>سماعة جيدة</td>\n",
       "      <td>NaN</td>\n",
       "      <td>سماعة صوتها والبيز مناسب ليا صراحة فهو لاقوي ي...</td>\n",
       "      <td>Positive</td>\n",
       "    </tr>\n",
       "    <tr>\n",
       "      <th>1</th>\n",
       "      <td>4.0</td>\n",
       "      <td>المايك افضل مقارنة مع r50i</td>\n",
       "      <td>NaN</td>\n",
       "      <td>صوت نقي بس حساه عالي شوية في الاصوات الحادة مز...</td>\n",
       "      <td>Positive</td>\n",
       "    </tr>\n",
       "    <tr>\n",
       "      <th>2</th>\n",
       "      <td>5.0</td>\n",
       "      <td>رائعه جدا</td>\n",
       "      <td>NaN</td>\n",
       "      <td>بطاريه قويه جداصوت جمل في المكالمات أثناء قياد...</td>\n",
       "      <td>Positive</td>\n",
       "    </tr>\n",
       "    <tr>\n",
       "      <th>3</th>\n",
       "      <td>4.0</td>\n",
       "      <td>كويسة</td>\n",
       "      <td>NaN</td>\n",
       "      <td>صوتها حلو والمايك فى العادى واضح، مجربتهوش فى ...</td>\n",
       "      <td>Positive</td>\n",
       "    </tr>\n",
       "    <tr>\n",
       "      <th>4</th>\n",
       "      <td>5.0</td>\n",
       "      <td>عملاقه</td>\n",
       "      <td>NaN</td>\n",
       "      <td>افضل سماعه</td>\n",
       "      <td>Positive</td>\n",
       "    </tr>\n",
       "  </tbody>\n",
       "</table>\n",
       "</div>"
      ],
      "text/plain": [
       "   Stars                       Title  Date  \\\n",
       "0    5.0                  سماعة جيدة   NaN   \n",
       "1    4.0  المايك افضل مقارنة مع r50i   NaN   \n",
       "2    5.0                   رائعه جدا   NaN   \n",
       "3    4.0                       كويسة   NaN   \n",
       "4    5.0                      عملاقه   NaN   \n",
       "\n",
       "                                         Description Sentiment  \n",
       "0  سماعة صوتها والبيز مناسب ليا صراحة فهو لاقوي ي...  Positive  \n",
       "1  صوت نقي بس حساه عالي شوية في الاصوات الحادة مز...  Positive  \n",
       "2  بطاريه قويه جداصوت جمل في المكالمات أثناء قياد...  Positive  \n",
       "3  صوتها حلو والمايك فى العادى واضح، مجربتهوش فى ...  Positive  \n",
       "4                                         افضل سماعه  Positive  "
      ]
     },
     "execution_count": 4,
     "metadata": {},
     "output_type": "execute_result"
    }
   ],
   "source": [
    "df.head()"
   ]
  },
  {
   "cell_type": "code",
   "execution_count": 5,
   "id": "0c052ef1-2f2f-4cea-8494-af602944521b",
   "metadata": {},
   "outputs": [
    {
     "data": {
      "text/plain": [
       "Sentiment\n",
       "Positive    44\n",
       "Neutral      4\n",
       "Negative     4\n",
       "Name: count, dtype: int64"
      ]
     },
     "execution_count": 5,
     "metadata": {},
     "output_type": "execute_result"
    }
   ],
   "source": [
    "df['Sentiment'].value_counts()"
   ]
  },
  {
   "cell_type": "code",
   "execution_count": 30,
   "id": "f0da8068-4c80-4ab9-af0a-e6d153660c74",
   "metadata": {},
   "outputs": [],
   "source": []
  }
 ],
 "metadata": {
  "kernelspec": {
   "display_name": "Python 3 (ipykernel)",
   "language": "python",
   "name": "python3"
  },
  "language_info": {
   "codemirror_mode": {
    "name": "ipython",
    "version": 3
   },
   "file_extension": ".py",
   "mimetype": "text/x-python",
   "name": "python",
   "nbconvert_exporter": "python",
   "pygments_lexer": "ipython3",
   "version": "3.10.15"
  }
 },
 "nbformat": 4,
 "nbformat_minor": 5
}
